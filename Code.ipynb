{
 "cells": [
  {
   "cell_type": "markdown",
   "metadata": {
    "id": "mnj489Tdjq4b"
   },
   "source": [
    "##Code\n"
   ]
  },
  {
   "cell_type": "markdown",
   "metadata": {
    "id": "z95fP7ALhOxA"
   },
   "source": []
  },
  {
   "cell_type": "code",
   "execution_count": null,
   "metadata": {
    "id": "ItR1AFufhN1b"
   },
   "outputs": [],
   "source": [
    "!pip install opencv-python\n"
   ]
  },
  {
   "cell_type": "code",
   "execution_count": null,
   "metadata": {
    "id": "yLEqh1tBlvxC"
   },
   "outputs": [],
   "source": [
    "import cv2\n",
    "\n",
    "def execute_part2(input_file):\n",
    "    # Open the input video file\n",
    "    cap = cv2.VideoCapture(input_file)\n",
    "\n",
    "    # Check if the input video was opened successfully\n",
    "    if not cap.isOpened():\n",
    "        print(\"Error opening the video file\")\n",
    "        return\n",
    "\n",
    "    # Get the input video's frame rate\n",
    "    input_fps = cap.get(cv2.CAP_PROP_FPS)\n",
    "\n",
    "    # Set the desired output frame rate\n",
    "    output_fps = min(max(15, input_fps), 25)\n",
    "\n",
    "    # Get the width and height of the input video frames\n",
    "    width = int(cap.get(cv2.CAP_PROP_FRAME_WIDTH))\n",
    "    height = int(cap.get(cv2.CAP_PROP_FRAME_HEIGHT))\n",
    "\n",
    "    # Calculate the frame interval based on the input and output frame rates\n",
    "    frame_interval = round(input_fps / output_fps)\n",
    "\n",
    "    # Create VideoWriter object to save the output video\n",
    "    output_file = './part2_output.mp4'\n",
    "    fourcc = cv2.VideoWriter_fourcc(*'mp4v')\n",
    "    out = cv2.VideoWriter(output_file, fourcc, output_fps, (width, height), isColor=False)\n",
    "\n",
    "    # Check if the output video was opened successfully\n",
    "    if not out.isOpened():\n",
    "        print(\"Error creating the output video file\")\n",
    "        cap.release()\n",
    "        return\n",
    "\n",
    "    frame_counter = 0\n",
    "\n",
    "    while cap.isOpened():\n",
    "        # Read the next frame from the input video\n",
    "        ret, frame = cap.read()\n",
    "\n",
    "        # If no frame was read, exit the loop\n",
    "        if not ret:\n",
    "            break\n",
    "\n",
    "        # Increment the frame counter\n",
    "        frame_counter += 1\n",
    "\n",
    "        # Process every frame_interval-th frame\n",
    "        if frame_counter % frame_interval == 0:\n",
    "            # Resize frame to match the output video size\n",
    "            resized_frame = cv2.resize(frame, (width, height))\n",
    "\n",
    "            # Convert frame to grayscale\n",
    "            gray_frame = cv2.cvtColor(resized_frame, cv2.COLOR_BGR2GRAY)\n",
    "\n",
    "            # Add text to the top-right corner of the frame\n",
    "            text = \"OpenCV\"\n",
    "            org = (width - 160, 50)  # Adjust the x-coordinate value to shift the text\n",
    "            font = cv2.FONT_HERSHEY_SIMPLEX\n",
    "            font_scale = 1\n",
    "            color = (255, 255, 255)\n",
    "            thickness = 2\n",
    "            cv2.putText(gray_frame, text, org, font, font_scale, color, thickness, cv2.LINE_AA)\n",
    "\n",
    "            # Write the modified grayscale frame to the output video\n",
    "            out.write(gray_frame)\n",
    "\n",
    "    # Release resources\n",
    "    cap.release()\n",
    "    out.release()\n",
    "\n",
    "    print(f\"Output video saved to: {output_file}\")\n",
    "\n",
    "# Example usage\n",
    "input_file_path = 'input3.mp4'  # Enter the input video file path here\n",
    "execute_part2(input_file_path)\n"
   ]
  }
 ],
 "metadata": {
  "colab": {
   "provenance": []
  },
  "kernelspec": {
   "display_name": "Python 3 (ipykernel)",
   "language": "python",
   "name": "python3"
  },
  "language_info": {
   "codemirror_mode": {
    "name": "ipython",
    "version": 3
   },
   "file_extension": ".py",
   "mimetype": "text/x-python",
   "name": "python",
   "nbconvert_exporter": "python",
   "pygments_lexer": "ipython3",
   "version": "3.9.13"
  }
 },
 "nbformat": 4,
 "nbformat_minor": 1
}
